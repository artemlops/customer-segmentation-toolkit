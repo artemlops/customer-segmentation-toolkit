{
 "cells": [
  {
   "cell_type": "code",
   "execution_count": null,
   "metadata": {},
   "outputs": [],
   "source": [
    "# default_exp data_zoo"
   ]
  },
  {
   "cell_type": "markdown",
   "metadata": {},
   "source": [
    "# Data Zoo\n",
    "> Download datasets produced within current project"
   ]
  },
  {
   "cell_type": "code",
   "execution_count": null,
   "metadata": {},
   "outputs": [],
   "source": [
    "# export\n",
    "import logging\n",
    "import pandas as pd\n",
    "from pathlib import Path\n",
    "from os.path import normpath"
   ]
  },
  {
   "cell_type": "code",
   "execution_count": null,
   "metadata": {},
   "outputs": [],
   "source": [
    "# export\n",
    "BASE_URL = 'https://raw.githubusercontent.com/artemlops/customer-segmentation-toolkit/master'\n",
    "SUPPORTED_SUFFIXES = {'.csv'}\n",
    "\n",
    "def download_data_csv(path_relative: str, base_url: str= BASE_URL) -> pd.DataFrame:\n",
    "    path_relative = Path(path_relative)\n",
    "    if path_relative.suffix not in SUPPORTED_SUFFIXES:\n",
    "        raise ValueError(f\"Can't download data {path_relative}: not a: {SUPPORTED_SUFFIXES}\")\n",
    "    url = f'{base_url}/{normpath(path_relative)}'\n",
    "    logging.info(f\"Downloading dataset '{url}'\")\n",
    "    return pd.read_csv(url)"
   ]
  },
  {
   "cell_type": "code",
   "execution_count": null,
   "metadata": {},
   "outputs": [],
   "source": [
    "DATA = 'data/output/04_data_analyse_customers/no_live_data__cleaned__purchase_clusters__train__customer_clusters.csv'\n",
    "\n",
    "df1 = download_data_csv(DATA)\n",
    "df2 = download_data_csv(f'/{DATA}')\n",
    "df3 = download_data_csv(f'/../{DATA}')\n",
    "df4 = download_data_csv(f'/../././{DATA}')\n",
    "df5 = download_data_csv(f'////{DATA}')\n",
    "\n",
    "assert df1.shape == df2.shape == df3.shape == df4.shape == df5.shape"
   ]
  },
  {
   "cell_type": "code",
   "execution_count": null,
   "metadata": {},
   "outputs": [],
   "source": [
    "try:\n",
    "    df = download_data_csv(\"not-found\")\n",
    "except:\n",
    "    pass\n",
    "else:\n",
    "    assert False, \"should not be here\""
   ]
  }
 ],
 "metadata": {
  "kernelspec": {
   "display_name": "Python 3",
   "language": "python",
   "name": "python3"
  }
 },
 "nbformat": 4,
 "nbformat_minor": 4
}
