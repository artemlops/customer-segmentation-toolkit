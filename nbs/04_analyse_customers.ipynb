{
 "cells": [
  {
   "cell_type": "code",
   "execution_count": null,
   "metadata": {},
   "outputs": [],
   "source": [
    "# default_exp analyse_customers"
   ]
  },
  {
   "cell_type": "markdown",
   "id": "perceived-precipitation",
   "metadata": {},
   "source": [
    "# Analyse customers\n",
    "\n",
    "> transactions per user,"
   ]
  },
  {
   "cell_type": "code",
   "execution_count": null,
   "id": "vertical-blank",
   "metadata": {},
   "outputs": [],
   "source": [
    "#hide\n",
    "%load_ext autoreload\n",
    "%autoreload 2"
   ]
  },
  {
   "cell_type": "code",
   "execution_count": null,
   "id": "short-director",
   "metadata": {},
   "outputs": [],
   "source": [
    "# export\n",
    "import logging\n",
    "import pandas as pd\n",
    "import numpy as np\n",
    "from sklearn.decomposition import PCA\n",
    "from sklearn.cluster import KMeans\n",
    "from sklearn.metrics import silhouette_samples, silhouette_score\n",
    "from sklearn.preprocessing import StandardScaler"
   ]
  },
  {
   "cell_type": "code",
   "execution_count": null,
   "id": "concrete-indianapolis",
   "metadata": {},
   "outputs": [],
   "source": [
    "# hide\n",
    "logging.basicConfig(level=logging.INFO)"
   ]
  },
  {
   "cell_type": "markdown",
   "id": "protected-sleeve",
   "metadata": {},
   "source": [
    "### Compute transactions per user\n",
    "\n",
    "> number of purchases made by the user, minimum, maximum, average amounts and total amount spent during all the visits\n",
    "\n",
    "Original section: 4.1.3 Consumer Order Combinations. Original cells: 47-49"
   ]
  },
  {
   "cell_type": "code",
   "execution_count": null,
   "id": "original-bonus",
   "metadata": {},
   "outputs": [
    {
     "name": "stderr",
     "output_type": "stream",
     "text": [
      "INFO:root:N_PURCHASE_CLUSTERS=5\n"
     ]
    },
    {
     "data": {
      "text/html": "<div>\n<style scoped>\n    .dataframe tbody tr th:only-of-type {\n        vertical-align: middle;\n    }\n\n    .dataframe tbody tr th {\n        vertical-align: top;\n    }\n\n    .dataframe thead th {\n        text-align: right;\n    }\n</style>\n<table border=\"1\" class=\"dataframe\">\n  <thead>\n    <tr style=\"text-align: right;\">\n      <th></th>\n      <th>CustomerID</th>\n      <th>InvoiceNo</th>\n      <th>Basket Price</th>\n      <th>categ_0</th>\n      <th>categ_1</th>\n      <th>categ_2</th>\n      <th>categ_3</th>\n      <th>categ_4</th>\n      <th>InvoiceDate</th>\n    </tr>\n  </thead>\n  <tbody>\n    <tr>\n      <th>0</th>\n      <td>12347</td>\n      <td>537626</td>\n      <td>711.79</td>\n      <td>293.35</td>\n      <td>23.40</td>\n      <td>83.40</td>\n      <td>124.44</td>\n      <td>187.2</td>\n      <td>2010-12-07 14:57:00.000001024</td>\n    </tr>\n    <tr>\n      <th>1</th>\n      <td>12347</td>\n      <td>542237</td>\n      <td>475.39</td>\n      <td>169.20</td>\n      <td>84.34</td>\n      <td>53.10</td>\n      <td>38.25</td>\n      <td>130.5</td>\n      <td>2011-01-26 14:29:59.999999744</td>\n    </tr>\n    <tr>\n      <th>2</th>\n      <td>12347</td>\n      <td>549222</td>\n      <td>636.25</td>\n      <td>115.00</td>\n      <td>81.00</td>\n      <td>71.10</td>\n      <td>38.25</td>\n      <td>330.9</td>\n      <td>2011-04-07 10:42:59.999999232</td>\n    </tr>\n    <tr>\n      <th>3</th>\n      <td>12347</td>\n      <td>556201</td>\n      <td>382.52</td>\n      <td>168.76</td>\n      <td>41.40</td>\n      <td>78.06</td>\n      <td>19.90</td>\n      <td>74.4</td>\n      <td>2011-06-09 13:01:00.000000256</td>\n    </tr>\n    <tr>\n      <th>4</th>\n      <td>12348</td>\n      <td>539318</td>\n      <td>892.80</td>\n      <td>0.00</td>\n      <td>478.80</td>\n      <td>0.00</td>\n      <td>240.00</td>\n      <td>174.0</td>\n      <td>2010-12-16 19:09:00.000000000</td>\n    </tr>\n  </tbody>\n</table>\n</div>",
      "text/plain": [
       "  CustomerID  InvoiceNo  Basket Price  categ_0  categ_1  categ_2  categ_3  \\\n",
       "0      12347     537626        711.79   293.35    23.40    83.40   124.44   \n",
       "1      12347     542237        475.39   169.20    84.34    53.10    38.25   \n",
       "2      12347     549222        636.25   115.00    81.00    71.10    38.25   \n",
       "3      12347     556201        382.52   168.76    41.40    78.06    19.90   \n",
       "4      12348     539318        892.80     0.00   478.80     0.00   240.00   \n",
       "\n",
       "   categ_4                   InvoiceDate  \n",
       "0    187.2 2010-12-07 14:57:00.000001024  \n",
       "1    130.5 2011-01-26 14:29:59.999999744  \n",
       "2    330.9 2011-04-07 10:42:59.999999232  \n",
       "3     74.4 2011-06-09 13:01:00.000000256  \n",
       "4    174.0 2010-12-16 19:09:00.000000000  "
      ]
     },
     "execution_count": null,
     "metadata": {},
     "output_type": "execute_result"
    }
   ],
   "source": [
    "from customer_segmentation_toolkit.load_split import load_data_csv\n",
    "\n",
    "DATA = '../data/output/03_data_compute_description_keywords'\n",
    "with open(f'{DATA}/n_purchase_clusters.txt', 'r') as f:\n",
    "    N_PURCHASE_CLUSTERS = int(f.read())\n",
    "logging.info(f'N_PURCHASE_CLUSTERS={N_PURCHASE_CLUSTERS}')\n",
    "\n",
    "basket_price = load_data_csv(f'{DATA}/no_live_data__cleaned__purchase_clusters__train.csv')\n",
    "basket_price.head()"
   ]
  },
  {
   "cell_type": "code",
   "execution_count": null,
   "id": "dying-asset",
   "metadata": {},
   "outputs": [],
   "source": [
    "# export\n",
    "\n",
    "def build_transactions_per_user(\n",
    "    basket_price: pd.DataFrame,\n",
    "    n_purchase_clusters: int,\n",
    ") -> pd.DataFrame:\n",
    "\n",
    "    # nb de visites et stats sur le montant du panier / utilisateurs\n",
    "    transactions_per_user = basket_price.groupby(by=['CustomerID'])['Basket Price']\\\n",
    "                                        .agg(['count','min','max','mean','sum'])\n",
    "    for i in range(n_purchase_clusters):\n",
    "        col = 'categ_{}'.format(i)\n",
    "        transactions_per_user.loc[:,col] = basket_price.groupby(by=['CustomerID'])\\\n",
    "                                                        [col].sum() / transactions_per_user['sum']*100\n",
    "    transactions_per_user.reset_index(drop=False, inplace=True)\n",
    "    \n",
    "    last_date = basket_price['InvoiceDate'].max().date()\n",
    "\n",
    "    first_registration = pd.DataFrame(basket_price.groupby(by=['CustomerID'])['InvoiceDate'].min())\n",
    "    last_purchase      = pd.DataFrame(basket_price.groupby(by=['CustomerID'])['InvoiceDate'].max())\n",
    "\n",
    "    test  = first_registration.applymap(lambda x:(last_date - x.date()).days)\n",
    "    test2 = last_purchase.applymap(lambda x:(last_date - x.date()).days)\n",
    "\n",
    "    transactions_per_user.loc[:, 'LastPurchase'] = test2.reset_index(drop = False)['InvoiceDate']\n",
    "    transactions_per_user.loc[:, 'FirstPurchase'] = test.reset_index(drop = False)['InvoiceDate']\n",
    "\n",
    "    return transactions_per_user"
   ]
  },
  {
   "cell_type": "code",
   "execution_count": null,
   "id": "informative-weight",
   "metadata": {},
   "outputs": [
    {
     "name": "stderr",
     "output_type": "stream",
     "text": [
      "INFO:numexpr.utils:Note: NumExpr detected 12 cores but \"NUMEXPR_MAX_THREADS\" not set, so enforcing safe limit of 8.\n",
      "INFO:numexpr.utils:NumExpr defaulting to 8 threads.\n"
     ]
    },
    {
     "data": {
      "text/html": "<div>\n<style scoped>\n    .dataframe tbody tr th:only-of-type {\n        vertical-align: middle;\n    }\n\n    .dataframe tbody tr th {\n        vertical-align: top;\n    }\n\n    .dataframe thead th {\n        text-align: right;\n    }\n</style>\n<table border=\"1\" class=\"dataframe\">\n  <thead>\n    <tr style=\"text-align: right;\">\n      <th></th>\n      <th>CustomerID</th>\n      <th>count</th>\n      <th>min</th>\n      <th>max</th>\n      <th>mean</th>\n      <th>sum</th>\n      <th>categ_0</th>\n      <th>categ_1</th>\n      <th>categ_2</th>\n      <th>categ_3</th>\n      <th>categ_4</th>\n      <th>LastPurchase</th>\n      <th>FirstPurchase</th>\n    </tr>\n  </thead>\n  <tbody>\n    <tr>\n      <th>0</th>\n      <td>12347</td>\n      <td>4</td>\n      <td>382.52</td>\n      <td>711.79</td>\n      <td>551.487500</td>\n      <td>2205.95</td>\n      <td>33.831682</td>\n      <td>10.432693</td>\n      <td>12.949523</td>\n      <td>10.011106</td>\n      <td>32.774995</td>\n      <td>52</td>\n      <td>236</td>\n    </tr>\n    <tr>\n      <th>1</th>\n      <td>12348</td>\n      <td>3</td>\n      <td>227.44</td>\n      <td>892.80</td>\n      <td>495.746667</td>\n      <td>1487.24</td>\n      <td>0.000000</td>\n      <td>45.940131</td>\n      <td>0.000000</td>\n      <td>21.516366</td>\n      <td>32.543503</td>\n      <td>117</td>\n      <td>227</td>\n    </tr>\n    <tr>\n      <th>2</th>\n      <td>12350</td>\n      <td>1</td>\n      <td>334.40</td>\n      <td>334.40</td>\n      <td>334.400000</td>\n      <td>334.40</td>\n      <td>0.000000</td>\n      <td>11.692584</td>\n      <td>27.900718</td>\n      <td>11.961722</td>\n      <td>48.444976</td>\n      <td>179</td>\n      <td>179</td>\n    </tr>\n    <tr>\n      <th>3</th>\n      <td>12352</td>\n      <td>4</td>\n      <td>144.35</td>\n      <td>840.30</td>\n      <td>360.370000</td>\n      <td>1441.48</td>\n      <td>5.771846</td>\n      <td>0.707606</td>\n      <td>3.683714</td>\n      <td>78.356966</td>\n      <td>11.479868</td>\n      <td>131</td>\n      <td>165</td>\n    </tr>\n    <tr>\n      <th>4</th>\n      <td>12353</td>\n      <td>1</td>\n      <td>89.00</td>\n      <td>89.00</td>\n      <td>89.000000</td>\n      <td>89.00</td>\n      <td>0.000000</td>\n      <td>0.000000</td>\n      <td>19.887640</td>\n      <td>67.078652</td>\n      <td>13.033708</td>\n      <td>73</td>\n      <td>73</td>\n    </tr>\n  </tbody>\n</table>\n</div>",
      "text/plain": [
       "  CustomerID  count     min     max        mean      sum    categ_0  \\\n",
       "0      12347      4  382.52  711.79  551.487500  2205.95  33.831682   \n",
       "1      12348      3  227.44  892.80  495.746667  1487.24   0.000000   \n",
       "2      12350      1  334.40  334.40  334.400000   334.40   0.000000   \n",
       "3      12352      4  144.35  840.30  360.370000  1441.48   5.771846   \n",
       "4      12353      1   89.00   89.00   89.000000    89.00   0.000000   \n",
       "\n",
       "     categ_1    categ_2    categ_3    categ_4  LastPurchase  FirstPurchase  \n",
       "0  10.432693  12.949523  10.011106  32.774995            52            236  \n",
       "1  45.940131   0.000000  21.516366  32.543503           117            227  \n",
       "2  11.692584  27.900718  11.961722  48.444976           179            179  \n",
       "3   0.707606   3.683714  78.356966  11.479868           131            165  \n",
       "4   0.000000  19.887640  67.078652  13.033708            73             73  "
      ]
     },
     "execution_count": null,
     "metadata": {},
     "output_type": "execute_result"
    }
   ],
   "source": [
    "transactions_per_user = build_transactions_per_user(basket_price, n_purchase_clusters=N_PURCHASE_CLUSTERS)\n",
    "transactions_per_user.head()"
   ]
  },
  {
   "cell_type": "code",
   "execution_count": null,
   "id": "swiss-paint",
   "metadata": {},
   "outputs": [],
   "source": [
    "# export\n",
    "\n",
    "def compute_n_customers_with_unique_purchase(transactions_per_user: pd.DataFrame):\n",
    "    return transactions_per_user[transactions_per_user['count'] == 1].shape[0]"
   ]
  },
  {
   "cell_type": "code",
   "execution_count": null,
   "id": "ordinary-aviation",
   "metadata": {},
   "outputs": [
    {
     "name": "stdout",
     "output_type": "stream",
     "text": [
      "nb. de clients avec achat unique: 1358/3143  (43.21%)\n"
     ]
    }
   ],
   "source": [
    "n1 = compute_n_customers_with_unique_purchase(transactions_per_user)\n",
    "n2 = transactions_per_user.shape[0]\n",
    "print(\"nb. de clients avec achat unique: {:<2}/{:<5} ({:<2.2f}%)\".format(n1,n2,n1/n2*100))"
   ]
  },
  {
   "cell_type": "markdown",
   "id": "ambient-ability",
   "metadata": {},
   "source": [
    "### Analyse customers distribution\n",
    "\n",
    "> PCA over customers\n",
    "\n",
    "Original section: 4.2 Creation of customers categories. Original cells: 50-53"
   ]
  },
  {
   "cell_type": "code",
   "execution_count": null,
   "id": "excellent-specific",
   "metadata": {},
   "outputs": [],
   "source": [
    "# export\n",
    "\n",
    "def convert_customers_df_to_np(\n",
    "    transactions_per_user: pd.DataFrame,\n",
    "    n_purchase_clusters: int,\n",
    ") -> np.ndarray:\n",
    "    list_cols = ['count','min','max','mean'] + [f'categ_{i}' for i in range(n_purchase_clusters)]\n",
    "    matrix = transactions_per_user[list_cols].to_numpy()\n",
    "    return matrix\n",
    "\n",
    "\n",
    "def analyse_customers_pca(\n",
    "    matrix: np.ndarray,\n",
    "    n_components=None,\n",
    ") -> pd.DataFrame:\n",
    "    scaler = StandardScaler()\n",
    "    scaler.fit(matrix)\n",
    "    # print('variables mean values: \\n' + 90*'-' + '\\n' , scaler.mean_)\n",
    "    scaled_matrix = scaler.transform(matrix)\n",
    "    \n",
    "    pca = PCA()\n",
    "    pca.fit(scaled_matrix)\n",
    "    #pca_samples = pca.transform(scaled_matrix)\n",
    "    \n",
    "    return scaled_matrix, pca"
   ]
  },
  {
   "cell_type": "code",
   "execution_count": null,
   "id": "worldwide-leader",
   "metadata": {},
   "outputs": [],
   "source": [
    "# export\n",
    "\n",
    "import matplotlib.pyplot as plt\n",
    "import seaborn as sns\n",
    "\n",
    "def plot_customers_pca(matrix: np.ndarray, pca: PCA):\n",
    "    fig, ax = plt.subplots(figsize=(14, 5))\n",
    "    sns.set(font_scale=1)\n",
    "    plt.step(range(matrix.shape[1]), pca.explained_variance_ratio_.cumsum(), where='mid',\n",
    "             label='cumulative explained variance')\n",
    "    sns.barplot(np.arange(1,matrix.shape[1]+1), pca.explained_variance_ratio_, alpha=0.5, color = 'g',\n",
    "                label='individual explained variance')\n",
    "    plt.xlim(0, 10)\n",
    "\n",
    "    ax.set_xticklabels([s if int(s.get_text())%2 == 0 else '' for s in ax.get_xticklabels()])\n",
    "\n",
    "    plt.ylabel('Explained variance', fontsize = 14)\n",
    "    plt.xlabel('Principal components', fontsize = 14)\n",
    "    plt.legend(loc='best', fontsize = 13);"
   ]
  },
  {
   "cell_type": "code",
   "execution_count": null,
   "id": "stupid-matthew",
   "metadata": {},
   "outputs": [
    {
     "data": {
      "image/png": "[encoded data removed]",
      "image/svg+xml": "<?xml version=\"1.0\" encoding=\"utf-8\" standalone=\"no\"?>\n<!DOCTYPE svg PUBLIC \"-//W3C//DTD SVG 1.1//EN\"\n  \"http://www.w3.org/Graphics/SVG/1.1/DTD/svg11.dtd\">\n<svg height=\"320.4275pt\" version=\"1.1\" viewBox=\"0 0 836.0525 320.4275\" width=\"836.0525pt\" xmlns=\"http://www.w3.org/2000/svg\" xmlns:xlink=\"http://www.w3.org/1999/xlink\">\n <metadata>\n  <rdf:RDF xmlns:cc=\"http://creativecommons.org/ns#\" xmlns:dc=\"http://purl.org/dc/elements/1.1/\" xmlns:rdf=\"http://www.w3.org/1999/02/22-rdf-syntax-ns#\">\n   <cc:Work>\n    <dc:type rdf:resource=\"http://purl.org/dc/dcmitype/StillImage\"/>\n    <dc:date>2021-05-25T21:07:36.287277</dc:date>\n    <dc:format>image/svg+xml</dc:format>\n    <dc:creator>\n     <cc:Agent>\n      <dc:title>Matplotlib v3.4.2, https://matplotlib.org/</dc:title>\n     </cc:Agent>\n    </dc:creator>\n   </cc:Work>\n  </rdf:RDF>\n </metadata>\n <defs>\n  <style type=\"text/css\">*{stroke-linecap:butt;stroke-linejoin:round;}</style>\n </defs>\n <g id=\"figure_1\">\n  <g id=\"patch_1\">\n   <path d=\"M 0 320.4275 \nL 836.0525 320.4275 \nL 836.0525 0 \nL 0 0 \nz\n\" style=\"fill:none;\"/>\n  </g>\n  <g id=\"axes_1\">\n   <g id=\"patch_2\">\n    <path d=\"M 47.6525 279 \nL 828.8525 279 \nL 828.8525 7.2 \nL 47.6525 7.2 \nz\n\" style=\"fill:#ffffff;\"/>\n   </g>\n   <g id=\"patch_3\">\n    <path clip-path=\"url(#p3ad4767eac)\" d=\"M 16.4045 279 \nL 78.9005 279 \nL 78.9005 214.028444 \nL 16.4045 214.028444 \nz\n\" style=\"fill:#5f9e6e;opacity:0.5;stroke:#ffffff;stroke-linejoin:miter;\"/>\n   </g>\n   <g id=\"patch_4\">\n    <path clip-path=\"url(#p3ad4767eac)\" d=\"M 94.5245 279 \nL 157.0205 279 \nL 157.0205 232.74218 \nL 94.5245 232.74218 \nz\n\" style=\"fill:#5f9e6e;opacity:0.5;stroke:#ffffff;stroke-linejoin:miter;\"/>\n   </g>\n   <g id=\"patch_5\">\n    <path clip-path=\"url(#p3ad4767eac)\" d=\"M 172.6445 279 \nL 235.1405 279 \nL 235.1405 242.982857 \nL 172.6445 242.982857 \nz\n\" style=\"fill:#5f9e6e;opacity:0.5;stroke:#ffffff;stroke-linejoin:miter;\"/>\n   </g>\n   <g id=\"patch_6\">\n    <path clip-path=\"url(#p3ad4767eac)\" d=\"M 250.7645 279 \nL 313.2605 279 \nL 313.2605 245.226711 \nL 250.7645 245.226711 \nz\n\" style=\"fill:#5f9e6e;opacity:0.5;stroke:#ffffff;stroke-linejoin:miter;\"/>\n   </g>\n   <g id=\"patch_7\">\n    <path clip-path=\"url(#p3ad4767eac)\" d=\"M 328.8845 279 \nL 391.3805 279 \nL 391.3805 246.404439 \nL 328.8845 246.404439 \nz\n\" style=\"fill:#5f9e6e;opacity:0.5;stroke:#ffffff;stroke-linejoin:miter;\"/>\n   </g>\n   <g id=\"patch_8\">\n    <path clip-path=\"url(#p3ad4767eac)\" d=\"M 407.0045 279 \nL 469.5005 279 \nL 469.5005 248.971617 \nL 407.0045 248.971617 \nz\n\" style=\"fill:#5f9e6e;opacity:0.5;stroke:#ffffff;stroke-linejoin:miter;\"/>\n   </g>\n   <g id=\"patch_9\">\n    <path clip-path=\"url(#p3ad4767eac)\" d=\"M 485.1245 279 \nL 547.6205 279 \nL 547.6205 264.960464 \nL 485.1245 264.960464 \nz\n\" style=\"fill:#5f9e6e;opacity:0.5;stroke:#ffffff;stroke-linejoin:miter;\"/>\n   </g>\n   <g id=\"patch_10\">\n    <path clip-path=\"url(#p3ad4767eac)\" d=\"M 563.2445 279 \nL 625.7405 279 \nL 625.7405 277.826546 \nL 563.2445 277.826546 \nz\n\" style=\"fill:#5f9e6e;opacity:0.5;stroke:#ffffff;stroke-linejoin:miter;\"/>\n   </g>\n   <g id=\"patch_11\">\n    <path clip-path=\"url(#p3ad4767eac)\" d=\"M 641.3645 279 \nL 703.8605 279 \nL 703.8605 278.999599 \nL 641.3645 278.999599 \nz\n\" style=\"fill:#5f9e6e;opacity:0.5;stroke:#ffffff;stroke-linejoin:miter;\"/>\n   </g>\n   <g id=\"matplotlib.axis_1\">\n    <g id=\"xtick_1\">\n     <g id=\"line2d_1\">\n      <defs>\n       <path d=\"M 0 0 \nL 0 3.5 \n\" id=\"m5173737da5\" style=\"stroke:#000000;stroke-width:0.8;\"/>\n      </defs>\n      <g>\n       <use style=\"stroke:#000000;stroke-width:0.8;\" x=\"47.6525\" xlink:href=\"#m5173737da5\" y=\"279\"/>\n      </g>\n     </g>\n    </g>\n    <g id=\"xtick_2\">\n     <g id=\"line2d_2\">\n      <g>\n       <use style=\"stroke:#000000;stroke-width:0.8;\" x=\"125.7725\" xlink:href=\"#m5173737da5\" y=\"279\"/>\n      </g>\n     </g>\n     <g id=\"text_1\">\n      <!-- 2 -->\n      <g transform=\"translate(122.59125 293.598437)scale(0.1 -0.1)\">\n       <defs>\n        <path d=\"M 1228 531 \nL 3431 531 \nL 3431 0 \nL 469 0 \nL 469 531 \nQ 828 903 1448 1529 \nQ 2069 2156 2228 2338 \nQ 2531 2678 2651 2914 \nQ 2772 3150 2772 3378 \nQ 2772 3750 2511 3984 \nQ 2250 4219 1831 4219 \nQ 1534 4219 1204 4116 \nQ 875 4013 500 3803 \nL 500 4441 \nQ 881 4594 1212 4672 \nQ 1544 4750 1819 4750 \nQ 2544 4750 2975 4387 \nQ 3406 4025 3406 3419 \nQ 3406 3131 3298 2873 \nQ 3191 2616 2906 2266 \nQ 2828 2175 2409 1742 \nQ 1991 1309 1228 531 \nz\n\" id=\"DejaVuSans-32\" transform=\"scale(0.015625)\"/>\n       </defs>\n       <use xlink:href=\"#DejaVuSans-32\"/>\n      </g>\n     </g>\n    </g>\n    <g id=\"xtick_3\">\n     <g id=\"line2d_3\">\n      <g>\n       <use style=\"stroke:#000000;stroke-width:0.8;\" x=\"203.8925\" xlink:href=\"#m5173737da5\" y=\"279\"/>\n      </g>\n     </g>\n    </g>\n    <g id=\"xtick_4\">\n     <g id=\"line2d_4\">\n      <g>\n       <use style=\"stroke:#000000;stroke-width:0.8;\" x=\"282.0125\" xlink:href=\"#m5173737da5\" y=\"279\"/>\n      </g>\n     </g>\n     <g id=\"text_2\">\n      <!-- 4 -->\n      <g transform=\"translate(278.83125 293.598437)scale(0.1 -0.1)\">\n       <defs>\n        <path d=\"M 2419 4116 \nL 825 1625 \nL 2419 1625 \nL 2419 4116 \nz\nM 2253 4666 \nL 3047 4666 \nL 3047 1625 \nL 3713 1625 \nL 3713 1100 \nL 3047 1100 \nL 3047 0 \nL 2419 0 \nL 2419 1100 \nL 313 1100 \nL 313 1709 \nL 2253 4666 \nz\n\" id=\"DejaVuSans-34\" transform=\"scale(0.015625)\"/>\n       </defs>\n       <use xlink:href=\"#DejaVuSans-34\"/>\n      </g>\n     </g>\n    </g>\n    <g id=\"xtick_5\">\n     <g id=\"line2d_5\">\n      <g>\n       <use style=\"stroke:#000000;stroke-width:0.8;\" x=\"360.1325\" xlink:href=\"#m5173737da5\" y=\"279\"/>\n      </g>\n     </g>\n    </g>\n    <g id=\"xtick_6\">\n     <g id=\"line2d_6\">\n      <g>\n       <use style=\"stroke:#000000;stroke-width:0.8;\" x=\"438.2525\" xlink:href=\"#m5173737da5\" y=\"279\"/>\n      </g>\n     </g>\n     <g id=\"text_3\">\n      <!-- 6 -->\n      <g transform=\"translate(435.07125 293.598437)scale(0.1 -0.1)\">\n       <defs>\n        <path d=\"M 2113 2584 \nQ 1688 2584 1439 2293 \nQ 1191 2003 1191 1497 \nQ 1191 994 1439 701 \nQ 1688 409 2113 409 \nQ 2538 409 2786 701 \nQ 3034 994 3034 1497 \nQ 3034 2003 2786 2293 \nQ 2538 2584 2113 2584 \nz\nM 3366 4563 \nL 3366 3988 \nQ 3128 4100 2886 4159 \nQ 2644 4219 2406 4219 \nQ 1781 4219 1451 3797 \nQ 1122 3375 1075 2522 \nQ 1259 2794 1537 2939 \nQ 1816 3084 2150 3084 \nQ 2853 3084 3261 2657 \nQ 3669 2231 3669 1497 \nQ 3669 778 3244 343 \nQ 2819 -91 2113 -91 \nQ 1303 -91 875 529 \nQ 447 1150 447 2328 \nQ 447 3434 972 4092 \nQ 1497 4750 2381 4750 \nQ 2619 4750 2861 4703 \nQ 3103 4656 3366 4563 \nz\n\" id=\"DejaVuSans-36\" transform=\"scale(0.015625)\"/>\n       </defs>\n       <use xlink:href=\"#DejaVuSans-36\"/>\n      </g>\n     </g>\n    </g>\n    <g id=\"xtick_7\">\n     <g id=\"line2d_7\">\n      <g>\n       <use style=\"stroke:#000000;stroke-width:0.8;\" x=\"516.3725\" xlink:href=\"#m5173737da5\" y=\"279\"/>\n      </g>\n     </g>\n    </g>\n    <g id=\"xtick_8\">\n     <g id=\"line2d_8\">\n      <g>\n       <use style=\"stroke:#000000;stroke-width:0.8;\" x=\"594.4925\" xlink:href=\"#m5173737da5\" y=\"279\"/>\n      </g>\n     </g>\n     <g id=\"text_4\">\n      <!-- 8 -->\n      <g transform=\"translate(591.31125 293.598437)scale(0.1 -0.1)\">\n       <defs>\n        <path d=\"M 2034 2216 \nQ 1584 2216 1326 1975 \nQ 1069 1734 1069 1313 \nQ 1069 891 1326 650 \nQ 1584 409 2034 409 \nQ 2484 409 2743 651 \nQ 3003 894 3003 1313 \nQ 3003 1734 2745 1975 \nQ 2488 2216 2034 2216 \nz\nM 1403 2484 \nQ 997 2584 770 2862 \nQ 544 3141 544 3541 \nQ 544 4100 942 4425 \nQ 1341 4750 2034 4750 \nQ 2731 4750 3128 4425 \nQ 3525 4100 3525 3541 \nQ 3525 3141 3298 2862 \nQ 3072 2584 2669 2484 \nQ 3125 2378 3379 2068 \nQ 3634 1759 3634 1313 \nQ 3634 634 3220 271 \nQ 2806 -91 2034 -91 \nQ 1263 -91 848 271 \nQ 434 634 434 1313 \nQ 434 1759 690 2068 \nQ 947 2378 1403 2484 \nz\nM 1172 3481 \nQ 1172 3119 1398 2916 \nQ 1625 2713 2034 2713 \nQ 2441 2713 2670 2916 \nQ 2900 3119 2900 3481 \nQ 2900 3844 2670 4047 \nQ 2441 4250 2034 4250 \nQ 1625 4250 1398 4047 \nQ 1172 3844 1172 3481 \nz\n\" id=\"DejaVuSans-38\" transform=\"scale(0.015625)\"/>\n       </defs>\n       <use xlink:href=\"#DejaVuSans-38\"/>\n      </g>\n     </g>\n    </g>\n    <g id=\"xtick_9\">\n     <g id=\"line2d_9\">\n      <g>\n       <use style=\"stroke:#000000;stroke-width:0.8;\" x=\"672.6125\" xlink:href=\"#m5173737da5\" y=\"279\"/>\n      </g>\n     </g>\n    </g>\n    <g id=\"text_5\">\n     <!-- Principal components -->\n     <g transform=\"translate(362.951094 310.315938)scale(0.14 -0.14)\">\n      <defs>\n       <path d=\"M 1259 4147 \nL 1259 2394 \nL 2053 2394 \nQ 2494 2394 2734 2622 \nQ 2975 2850 2975 3272 \nQ 2975 3691 2734 3919 \nQ 2494 4147 2053 4147 \nL 1259 4147 \nz\nM 628 4666 \nL 2053 4666 \nQ 2838 4666 3239 4311 \nQ 3641 3956 3641 3272 \nQ 3641 2581 3239 2228 \nQ 2838 1875 2053 1875 \nL 1259 1875 \nL 1259 0 \nL 628 0 \nL 628 4666 \nz\n\" id=\"DejaVuSans-50\" transform=\"scale(0.015625)\"/>\n       <path d=\"M 2631 2963 \nQ 2534 3019 2420 3045 \nQ 2306 3072 2169 3072 \nQ 1681 3072 1420 2755 \nQ 1159 2438 1159 1844 \nL 1159 0 \nL 581 0 \nL 581 3500 \nL 1159 3500 \nL 1159 2956 \nQ 1341 3275 1631 3429 \nQ 1922 3584 2338 3584 \nQ 2397 3584 2469 3576 \nQ 2541 3569 2628 3553 \nL 2631 2963 \nz\n\" id=\"DejaVuSans-72\" transform=\"scale(0.015625)\"/>\n       <path d=\"M 603 3500 \nL 1178 3500 \nL 1178 0 \nL 603 0 \nL 603 3500 \nz\nM 603 4863 \nL 1178 4863 \nL 1178 4134 \nL 603 4134 \nL 603 4863 \nz\n\" id=\"DejaVuSans-69\" transform=\"scale(0.015625)\"/>\n       <path d=\"M 3513 2113 \nL 3513 0 \nL 2938 0 \nL 2938 2094 \nQ 2938 2591 2744 2837 \nQ 2550 3084 2163 3084 \nQ 1697 3084 1428 2787 \nQ 1159 2491 1159 1978 \nL 1159 0 \nL 581 0 \nL 581 3500 \nL 1159 3500 \nL 1159 2956 \nQ 1366 3272 1645 3428 \nQ 1925 3584 2291 3584 \nQ 2894 3584 3203 3211 \nQ 3513 2838 3513 2113 \nz\n\" id=\"DejaVuSans-6e\" transform=\"scale(0.015625)\"/>\n       <path d=\"M 3122 3366 \nL 3122 2828 \nQ 2878 2963 2633 3030 \nQ 2388 3097 2138 3097 \nQ 1578 3097 1268 2742 \nQ 959 2388 959 1747 \nQ 959 1106 1268 751 \nQ 1578 397 2138 397 \nQ 2388 397 2633 464 \nQ 2878 531 3122 666 \nL 3122 134 \nQ 2881 22 2623 -34 \nQ 2366 -91 2075 -91 \nQ 1284 -91 818 406 \nQ 353 903 353 1747 \nQ 353 2603 823 3093 \nQ 1294 3584 2113 3584 \nQ 2378 3584 2631 3529 \nQ 2884 3475 3122 3366 \nz\n\" id=\"DejaVuSans-63\" transform=\"scale(0.015625)\"/>\n       <path d=\"M 1159 525 \nL 1159 -1331 \nL 581 -1331 \nL 581 3500 \nL 1159 3500 \nL 1159 2969 \nQ 1341 3281 1617 3432 \nQ 1894 3584 2278 3584 \nQ 2916 3584 3314 3078 \nQ 3713 2572 3713 1747 \nQ 3713 922 3314 415 \nQ 2916 -91 2278 -91 \nQ 1894 -91 1617 61 \nQ 1341 213 1159 525 \nz\nM 3116 1747 \nQ 3116 2381 2855 2742 \nQ 2594 3103 2138 3103 \nQ 1681 3103 1420 2742 \nQ 1159 2381 1159 1747 \nQ 1159 1113 1420 752 \nQ 1681 391 2138 391 \nQ 2594 391 2855 752 \nQ 3116 1113 3116 1747 \nz\n\" id=\"DejaVuSans-70\" transform=\"scale(0.015625)\"/>\n       <path d=\"M 2194 1759 \nQ 1497 1759 1228 1600 \nQ 959 1441 959 1056 \nQ 959 750 1161 570 \nQ 1363 391 1709 391 \nQ 2188 391 2477 730 \nQ 2766 1069 2766 1631 \nL 2766 1759 \nL 2194 1759 \nz\nM 3341 1997 \nL 3341 0 \nL 2766 0 \nL 2766 531 \nQ 2569 213 2275 61 \nQ 1981 -91 1556 -91 \nQ 1019 -91 701 211 \nQ 384 513 384 1019 \nQ 384 1609 779 1909 \nQ 1175 2209 1959 2209 \nL 2766 2209 \nL 2766 2266 \nQ 2766 2663 2505 2880 \nQ 2244 3097 1772 3097 \nQ 1472 3097 1187 3025 \nQ 903 2953 641 2809 \nL 641 3341 \nQ 956 3463 1253 3523 \nQ 1550 3584 1831 3584 \nQ 2591 3584 2966 3190 \nQ 3341 2797 3341 1997 \nz\n\" id=\"DejaVuSans-61\" transform=\"scale(0.015625)\"/>\n       <path d=\"M 603 4863 \nL 1178 4863 \nL 1178 0 \nL 603 0 \nL 603 4863 \nz\n\" id=\"DejaVuSans-6c\" transform=\"scale(0.015625)\"/>\n       <path id=\"DejaVuSans-20\" transform=\"scale(0.015625)\"/>\n       <path d=\"M 1959 3097 \nQ 1497 3097 1228 2736 \nQ 959 2375 959 1747 \nQ 959 1119 1226 758 \nQ 1494 397 1959 397 \nQ 2419 397 2687 759 \nQ 2956 1122 2956 1747 \nQ 2956 2369 2687 2733 \nQ 2419 3097 1959 3097 \nz\nM 1959 3584 \nQ 2709 3584 3137 3096 \nQ 3566 2609 3566 1747 \nQ 3566 888 3137 398 \nQ 2709 -91 1959 -91 \nQ 1206 -91 779 398 \nQ 353 888 353 1747 \nQ 353 2609 779 3096 \nQ 1206 3584 1959 3584 \nz\n\" id=\"DejaVuSans-6f\" transform=\"scale(0.015625)\"/>\n       <path d=\"M 3328 2828 \nQ 3544 3216 3844 3400 \nQ 4144 3584 4550 3584 \nQ 5097 3584 5394 3201 \nQ 5691 2819 5691 2113 \nL 5691 0 \nL 5113 0 \nL 5113 2094 \nQ 5113 2597 4934 2840 \nQ 4756 3084 4391 3084 \nQ 3944 3084 3684 2787 \nQ 3425 2491 3425 1978 \nL 3425 0 \nL 2847 0 \nL 2847 2094 \nQ 2847 2600 2669 2842 \nQ 2491 3084 2119 3084 \nQ 1678 3084 1418 2786 \nQ 1159 2488 1159 1978 \nL 1159 0 \nL 581 0 \nL 581 3500 \nL 1159 3500 \nL 1159 2956 \nQ 1356 3278 1631 3431 \nQ 1906 3584 2284 3584 \nQ 2666 3584 2933 3390 \nQ 3200 3197 3328 2828 \nz\n\" id=\"DejaVuSans-6d\" transform=\"scale(0.015625)\"/>\n       <path d=\"M 3597 1894 \nL 3597 1613 \nL 953 1613 \nQ 991 1019 1311 708 \nQ 1631 397 2203 397 \nQ 2534 397 2845 478 \nQ 3156 559 3463 722 \nL 3463 178 \nQ 3153 47 2828 -22 \nQ 2503 -91 2169 -91 \nQ 1331 -91 842 396 \nQ 353 884 353 1716 \nQ 353 2575 817 3079 \nQ 1281 3584 2069 3584 \nQ 2775 3584 3186 3129 \nQ 3597 2675 3597 1894 \nz\nM 3022 2063 \nQ 3016 2534 2758 2815 \nQ 2500 3097 2075 3097 \nQ 1594 3097 1305 2825 \nQ 1016 2553 972 2059 \nL 3022 2063 \nz\n\" id=\"DejaVuSans-65\" transform=\"scale(0.015625)\"/>\n       <path d=\"M 1172 4494 \nL 1172 3500 \nL 2356 3500 \nL 2356 3053 \nL 1172 3053 \nL 1172 1153 \nQ 1172 725 1289 603 \nQ 1406 481 1766 481 \nL 2356 481 \nL 2356 0 \nL 1766 0 \nQ 1100 0 847 248 \nQ 594 497 594 1153 \nL 594 3053 \nL 172 3053 \nL 172 3500 \nL 594 3500 \nL 594 4494 \nL 1172 4494 \nz\n\" id=\"DejaVuSans-74\" transform=\"scale(0.015625)\"/>\n       <path d=\"M 2834 3397 \nL 2834 2853 \nQ 2591 2978 2328 3040 \nQ 2066 3103 1784 3103 \nQ 1356 3103 1142 2972 \nQ 928 2841 928 2578 \nQ 928 2378 1081 2264 \nQ 1234 2150 1697 2047 \nL 1894 2003 \nQ 2506 1872 2764 1633 \nQ 3022 1394 3022 966 \nQ 3022 478 2636 193 \nQ 2250 -91 1575 -91 \nQ 1294 -91 989 -36 \nQ 684 19 347 128 \nL 347 722 \nQ 666 556 975 473 \nQ 1284 391 1588 391 \nQ 1994 391 2212 530 \nQ 2431 669 2431 922 \nQ 2431 1156 2273 1281 \nQ 2116 1406 1581 1522 \nL 1381 1569 \nQ 847 1681 609 1914 \nQ 372 2147 372 2553 \nQ 372 3047 722 3315 \nQ 1072 3584 1716 3584 \nQ 2034 3584 2315 3537 \nQ 2597 3491 2834 3397 \nz\n\" id=\"DejaVuSans-73\" transform=\"scale(0.015625)\"/>\n      </defs>\n      <use xlink:href=\"#DejaVuSans-50\"/>\n      <use x=\"58.552734\" xlink:href=\"#DejaVuSans-72\"/>\n      <use x=\"99.666016\" xlink:href=\"#DejaVuSans-69\"/>\n      <use x=\"127.449219\" xlink:href=\"#DejaVuSans-6e\"/>\n      <use x=\"190.828125\" xlink:href=\"#DejaVuSans-63\"/>\n      <use x=\"245.808594\" xlink:href=\"#DejaVuSans-69\"/>\n      <use x=\"273.591797\" xlink:href=\"#DejaVuSans-70\"/>\n      <use x=\"337.068359\" xlink:href=\"#DejaVuSans-61\"/>\n      <use x=\"398.347656\" xlink:href=\"#DejaVuSans-6c\"/>\n      <use x=\"426.130859\" xlink:href=\"#DejaVuSans-20\"/>\n      <use x=\"457.917969\" xlink:href=\"#DejaVuSans-63\"/>\n      <use x=\"512.898438\" xlink:href=\"#DejaVuSans-6f\"/>\n      <use x=\"574.080078\" xlink:href=\"#DejaVuSans-6d\"/>\n      <use x=\"671.492188\" xlink:href=\"#DejaVuSans-70\"/>\n      <use x=\"734.96875\" xlink:href=\"#DejaVuSans-6f\"/>\n      <use x=\"796.150391\" xlink:href=\"#DejaVuSans-6e\"/>\n      <use x=\"859.529297\" xlink:href=\"#DejaVuSans-65\"/>\n      <use x=\"921.052734\" xlink:href=\"#DejaVuSans-6e\"/>\n      <use x=\"984.431641\" xlink:href=\"#DejaVuSans-74\"/>\n      <use x=\"1023.640625\" xlink:href=\"#DejaVuSans-73\"/>\n     </g>\n    </g>\n   </g>\n   <g id=\"matplotlib.axis_2\">\n    <g id=\"ytick_1\">\n     <g id=\"line2d_10\">\n      <defs>\n       <path d=\"M 0 0 \nL -3.5 0 \n\" id=\"m477c3bd3cb\" style=\"stroke:#000000;stroke-width:0.8;\"/>\n      </defs>\n      <g>\n       <use style=\"stroke:#000000;stroke-width:0.8;\" x=\"47.6525\" xlink:href=\"#m477c3bd3cb\" y=\"279\"/>\n      </g>\n     </g>\n     <g id=\"text_6\">\n      <!-- 0.0 -->\n      <g transform=\"translate(24.749375 282.799219)scale(0.1 -0.1)\">\n       <defs>\n        <path d=\"M 2034 4250 \nQ 1547 4250 1301 3770 \nQ 1056 3291 1056 2328 \nQ 1056 1369 1301 889 \nQ 1547 409 2034 409 \nQ 2525 409 2770 889 \nQ 3016 1369 3016 2328 \nQ 3016 3291 2770 3770 \nQ 2525 4250 2034 4250 \nz\nM 2034 4750 \nQ 2819 4750 3233 4129 \nQ 3647 3509 3647 2328 \nQ 3647 1150 3233 529 \nQ 2819 -91 2034 -91 \nQ 1250 -91 836 529 \nQ 422 1150 422 2328 \nQ 422 3509 836 4129 \nQ 1250 4750 2034 4750 \nz\n\" id=\"DejaVuSans-30\" transform=\"scale(0.015625)\"/>\n        <path d=\"M 684 794 \nL 1344 794 \nL 1344 0 \nL 684 0 \nL 684 794 \nz\n\" id=\"DejaVuSans-2e\" transform=\"scale(0.015625)\"/>\n       </defs>\n       <use xlink:href=\"#DejaVuSans-30\"/>\n       <use x=\"63.623047\" xlink:href=\"#DejaVuSans-2e\"/>\n       <use x=\"95.410156\" xlink:href=\"#DejaVuSans-30\"/>\n      </g>\n     </g>\n    </g>\n    <g id=\"ytick_2\">\n     <g id=\"line2d_11\">\n      <g>\n       <use style=\"stroke:#000000;stroke-width:0.8;\" x=\"47.6525\" xlink:href=\"#m477c3bd3cb\" y=\"227.228571\"/>\n      </g>\n     </g>\n     <g id=\"text_7\">\n      <!-- 0.2 -->\n      <g transform=\"translate(24.749375 231.02779)scale(0.1 -0.1)\">\n       <use xlink:href=\"#DejaVuSans-30\"/>\n       <use x=\"63.623047\" xlink:href=\"#DejaVuSans-2e\"/>\n       <use x=\"95.410156\" xlink:href=\"#DejaVuSans-32\"/>\n      </g>\n     </g>\n    </g>\n    <g id=\"ytick_3\">\n     <g id=\"line2d_12\">\n      <g>\n       <use style=\"stroke:#000000;stroke-width:0.8;\" x=\"47.6525\" xlink:href=\"#m477c3bd3cb\" y=\"175.457143\"/>\n      </g>\n     </g>\n     <g id=\"text_8\">\n      <!-- 0.4 -->\n      <g transform=\"translate(24.749375 179.256362)scale(0.1 -0.1)\">\n       <use xlink:href=\"#DejaVuSans-30\"/>\n       <use x=\"63.623047\" xlink:href=\"#DejaVuSans-2e\"/>\n       <use x=\"95.410156\" xlink:href=\"#DejaVuSans-34\"/>\n      </g>\n     </g>\n    </g>\n    <g id=\"ytick_4\">\n     <g id=\"line2d_13\">\n      <g>\n       <use style=\"stroke:#000000;stroke-width:0.8;\" x=\"47.6525\" xlink:href=\"#m477c3bd3cb\" y=\"123.685714\"/>\n      </g>\n     </g>\n     <g id=\"text_9\">\n      <!-- 0.6 -->\n      <g transform=\"translate(24.749375 127.484933)scale(0.1 -0.1)\">\n       <use xlink:href=\"#DejaVuSans-30\"/>\n       <use x=\"63.623047\" xlink:href=\"#DejaVuSans-2e\"/>\n       <use x=\"95.410156\" xlink:href=\"#DejaVuSans-36\"/>\n      </g>\n     </g>\n    </g>\n    <g id=\"ytick_5\">\n     <g id=\"line2d_14\">\n      <g>\n       <use style=\"stroke:#000000;stroke-width:0.8;\" x=\"47.6525\" xlink:href=\"#m477c3bd3cb\" y=\"71.914286\"/>\n      </g>\n     </g>\n     <g id=\"text_10\">\n      <!-- 0.8 -->\n      <g transform=\"translate(24.749375 75.713504)scale(0.1 -0.1)\">\n       <use xlink:href=\"#DejaVuSans-30\"/>\n       <use x=\"63.623047\" xlink:href=\"#DejaVuSans-2e\"/>\n       <use x=\"95.410156\" xlink:href=\"#DejaVuSans-38\"/>\n      </g>\n     </g>\n    </g>\n    <g id=\"ytick_6\">\n     <g id=\"line2d_15\">\n      <g>\n       <use style=\"stroke:#000000;stroke-width:0.8;\" x=\"47.6525\" xlink:href=\"#m477c3bd3cb\" y=\"20.142857\"/>\n      </g>\n     </g>\n     <g id=\"text_11\">\n      <!-- 1.0 -->\n      <g transform=\"translate(24.749375 23.942076)scale(0.1 -0.1)\">\n       <defs>\n        <path d=\"M 794 531 \nL 1825 531 \nL 1825 4091 \nL 703 3866 \nL 703 4441 \nL 1819 4666 \nL 2450 4666 \nL 2450 531 \nL 3481 531 \nL 3481 0 \nL 794 0 \nL 794 531 \nz\n\" id=\"DejaVuSans-31\" transform=\"scale(0.015625)\"/>\n       </defs>\n       <use xlink:href=\"#DejaVuSans-31\"/>\n       <use x=\"63.623047\" xlink:href=\"#DejaVuSans-2e\"/>\n       <use x=\"95.410156\" xlink:href=\"#DejaVuSans-30\"/>\n      </g>\n     </g>\n    </g>\n    <g id=\"text_12\">\n     <!-- Explained variance -->\n     <g transform=\"translate(17.837813 209.838437)rotate(-90)scale(0.14 -0.14)\">\n      <defs>\n       <path d=\"M 628 4666 \nL 3578 4666 \nL 3578 4134 \nL 1259 4134 \nL 1259 2753 \nL 3481 2753 \nL 3481 2222 \nL 1259 2222 \nL 1259 531 \nL 3634 531 \nL 3634 0 \nL 628 0 \nL 628 4666 \nz\n\" id=\"DejaVuSans-45\" transform=\"scale(0.015625)\"/>\n       <path d=\"M 3513 3500 \nL 2247 1797 \nL 3578 0 \nL 2900 0 \nL 1881 1375 \nL 863 0 \nL 184 0 \nL 1544 1831 \nL 300 3500 \nL 978 3500 \nL 1906 2253 \nL 2834 3500 \nL 3513 3500 \nz\n\" id=\"DejaVuSans-78\" transform=\"scale(0.015625)\"/>\n       <path d=\"M 2906 2969 \nL 2906 4863 \nL 3481 4863 \nL 3481 0 \nL 2906 0 \nL 2906 525 \nQ 2725 213 2448 61 \nQ 2172 -91 1784 -91 \nQ 1150 -91 751 415 \nQ 353 922 353 1747 \nQ 353 2572 751 3078 \nQ 1150 3584 1784 3584 \nQ 2172 3584 2448 3432 \nQ 2725 3281 2906 2969 \nz\nM 947 1747 \nQ 947 1113 1208 752 \nQ 1469 391 1925 391 \nQ 2381 391 2643 752 \nQ 2906 1113 2906 1747 \nQ 2906 2381 2643 2742 \nQ 2381 3103 1925 3103 \nQ 1469 3103 1208 2742 \nQ 947 2381 947 1747 \nz\n\" id=\"DejaVuSans-64\" transform=\"scale(0.015625)\"/>\n       <path d=\"M 191 3500 \nL 800 3500 \nL 1894 563 \nL 2988 3500 \nL 3597 3500 \nL 2284 0 \nL 1503 0 \nL 191 3500 \nz\n\" id=\"DejaVuSans-76\" transform=\"scale(0.015625)\"/>\n      </defs>\n      <use xlink:href=\"#DejaVuSans-45\"/>\n      <use x=\"63.183594\" xlink:href=\"#DejaVuSans-78\"/>\n      <use x=\"122.363281\" xlink:href=\"#DejaVuSans-70\"/>\n      <use x=\"185.839844\" xlink:href=\"#DejaVuSans-6c\"/>\n      <use x=\"213.623047\" xlink:href=\"#DejaVuSans-61\"/>\n      <use x=\"274.902344\" xlink:href=\"#DejaVuSans-69\"/>\n      <use x=\"302.685547\" xlink:href=\"#DejaVuSans-6e\"/>\n      <use x=\"366.064453\" xlink:href=\"#DejaVuSans-65\"/>\n      <use x=\"427.587891\" xlink:href=\"#DejaVuSans-64\"/>\n      <use x=\"491.064453\" xlink:href=\"#DejaVuSans-20\"/>\n      <use x=\"522.851562\" xlink:href=\"#DejaVuSans-76\"/>\n      <use x=\"582.03125\" xlink:href=\"#DejaVuSans-61\"/>\n      <use x=\"643.310547\" xlink:href=\"#DejaVuSans-72\"/>\n      <use x=\"684.423828\" xlink:href=\"#DejaVuSans-69\"/>\n      <use x=\"712.207031\" xlink:href=\"#DejaVuSans-61\"/>\n      <use x=\"773.486328\" xlink:href=\"#DejaVuSans-6e\"/>\n      <use x=\"836.865234\" xlink:href=\"#DejaVuSans-63\"/>\n      <use x=\"891.845703\" xlink:href=\"#DejaVuSans-65\"/>\n     </g>\n    </g>\n   </g>\n   <g id=\"line2d_16\">\n    <path clip-path=\"url(#p3ad4767eac)\" d=\"M 47.6525 214.028444 \nL 86.7125 214.028444 \nL 86.7125 167.770624 \nL 164.8325 167.770624 \nL 164.8325 131.753482 \nL 242.9525 131.753482 \nL 242.9525 97.980192 \nL 321.0725 97.980192 \nL 321.0725 65.384631 \nL 399.1925 65.384631 \nL 399.1925 35.356249 \nL 477.3125 35.356249 \nL 477.3125 21.316713 \nL 555.4325 21.316713 \nL 555.4325 20.143259 \nL 633.5525 20.143259 \nL 633.5525 20.142857 \nL 672.6125 20.142857 \n\" style=\"fill:none;stroke:#1f77b4;stroke-linecap:round;stroke-width:1.5;\"/>\n   </g>\n   <g id=\"line2d_17\">\n    <path clip-path=\"url(#p3ad4767eac)\" style=\"fill:none;stroke:#424242;stroke-linecap:round;stroke-width:2.7;\"/>\n   </g>\n   <g id=\"line2d_18\">\n    <path clip-path=\"url(#p3ad4767eac)\" style=\"fill:none;stroke:#424242;stroke-linecap:round;stroke-width:2.7;\"/>\n   </g>\n   <g id=\"line2d_19\">\n    <path clip-path=\"url(#p3ad4767eac)\" style=\"fill:none;stroke:#424242;stroke-linecap:round;stroke-width:2.7;\"/>\n   </g>\n   <g id=\"line2d_20\">\n    <path clip-path=\"url(#p3ad4767eac)\" style=\"fill:none;stroke:#424242;stroke-linecap:round;stroke-width:2.7;\"/>\n   </g>\n   <g id=\"line2d_21\">\n    <path clip-path=\"url(#p3ad4767eac)\" style=\"fill:none;stroke:#424242;stroke-linecap:round;stroke-width:2.7;\"/>\n   </g>\n   <g id=\"line2d_22\">\n    <path clip-path=\"url(#p3ad4767eac)\" style=\"fill:none;stroke:#424242;stroke-linecap:round;stroke-width:2.7;\"/>\n   </g>\n   <g id=\"line2d_23\">\n    <path clip-path=\"url(#p3ad4767eac)\" style=\"fill:none;stroke:#424242;stroke-linecap:round;stroke-width:2.7;\"/>\n   </g>\n   <g id=\"line2d_24\">\n    <path clip-path=\"url(#p3ad4767eac)\" style=\"fill:none;stroke:#424242;stroke-linecap:round;stroke-width:2.7;\"/>\n   </g>\n   <g id=\"line2d_25\">\n    <path clip-path=\"url(#p3ad4767eac)\" style=\"fill:none;stroke:#424242;stroke-linecap:round;stroke-width:2.7;\"/>\n   </g>\n   <g id=\"patch_12\">\n    <path d=\"M 47.6525 279 \nL 47.6525 7.2 \n\" style=\"fill:none;stroke:#000000;stroke-linecap:square;stroke-linejoin:miter;stroke-width:0.8;\"/>\n   </g>\n   <g id=\"patch_13\">\n    <path d=\"M 828.8525 279 \nL 828.8525 7.2 \n\" style=\"fill:none;stroke:#000000;stroke-linecap:square;stroke-linejoin:miter;stroke-width:0.8;\"/>\n   </g>\n   <g id=\"patch_14\">\n    <path d=\"M 47.6525 279 \nL 828.8525 279 \n\" style=\"fill:none;stroke:#000000;stroke-linecap:square;stroke-linejoin:miter;stroke-width:0.8;\"/>\n   </g>\n   <g id=\"patch_15\">\n    <path d=\"M 47.6525 7.2 \nL 828.8525 7.2 \n\" style=\"fill:none;stroke:#000000;stroke-linecap:square;stroke-linejoin:miter;stroke-width:0.8;\"/>\n   </g>\n   <g id=\"legend_1\">\n    <g id=\"patch_16\">\n     <path d=\"M 56.7525 55.763125 \nL 298.251875 55.763125 \nQ 300.851875 55.763125 300.851875 53.163125 \nL 300.851875 16.3 \nQ 300.851875 13.7 298.251875 13.7 \nL 56.7525 13.7 \nQ 54.1525 13.7 54.1525 16.3 \nL 54.1525 53.163125 \nQ 54.1525 55.763125 56.7525 55.763125 \nz\n\" style=\"fill:#eaeaf2;opacity:0.8;stroke:#cccccc;stroke-linejoin:miter;\"/>\n    </g>\n    <g id=\"line2d_26\">\n     <path d=\"M 59.3525 24.227969 \nL 85.3525 24.227969 \n\" style=\"fill:none;stroke:#1f77b4;stroke-linecap:round;stroke-width:1.5;\"/>\n    </g>\n    <g id=\"line2d_27\"/>\n    <g id=\"text_13\">\n     <!-- cumulative explained variance -->\n     <g style=\"fill:#262626;\" transform=\"translate(95.7525 28.777969)scale(0.13 -0.13)\">\n      <defs>\n       <path d=\"M 544 1381 \nL 544 3500 \nL 1119 3500 \nL 1119 1403 \nQ 1119 906 1312 657 \nQ 1506 409 1894 409 \nQ 2359 409 2629 706 \nQ 2900 1003 2900 1516 \nL 2900 3500 \nL 3475 3500 \nL 3475 0 \nL 2900 0 \nL 2900 538 \nQ 2691 219 2414 64 \nQ 2138 -91 1772 -91 \nQ 1169 -91 856 284 \nQ 544 659 544 1381 \nz\nM 1991 3584 \nL 1991 3584 \nz\n\" id=\"DejaVuSans-75\" transform=\"scale(0.015625)\"/>\n      </defs>\n      <use xlink:href=\"#DejaVuSans-63\"/>\n      <use x=\"54.980469\" xlink:href=\"#DejaVuSans-75\"/>\n      <use x=\"118.359375\" xlink:href=\"#DejaVuSans-6d\"/>\n      <use x=\"215.771484\" xlink:href=\"#DejaVuSans-75\"/>\n      <use x=\"279.150391\" xlink:href=\"#DejaVuSans-6c\"/>\n      <use x=\"306.933594\" xlink:href=\"#DejaVuSans-61\"/>\n      <use x=\"368.212891\" xlink:href=\"#DejaVuSans-74\"/>\n      <use x=\"407.421875\" xlink:href=\"#DejaVuSans-69\"/>\n      <use x=\"435.205078\" xlink:href=\"#DejaVuSans-76\"/>\n      <use x=\"494.384766\" xlink:href=\"#DejaVuSans-65\"/>\n      <use x=\"555.908203\" xlink:href=\"#DejaVuSans-20\"/>\n      <use x=\"587.695312\" xlink:href=\"#DejaVuSans-65\"/>\n      <use x=\"647.46875\" xlink:href=\"#DejaVuSans-78\"/>\n      <use x=\"706.648438\" xlink:href=\"#DejaVuSans-70\"/>\n      <use x=\"770.125\" xlink:href=\"#DejaVuSans-6c\"/>\n      <use x=\"797.908203\" xlink:href=\"#DejaVuSans-61\"/>\n      <use x=\"859.1875\" xlink:href=\"#DejaVuSans-69\"/>\n      <use x=\"886.970703\" xlink:href=\"#DejaVuSans-6e\"/>\n      <use x=\"950.349609\" xlink:href=\"#DejaVuSans-65\"/>\n      <use x=\"1011.873047\" xlink:href=\"#DejaVuSans-64\"/>\n      <use x=\"1075.349609\" xlink:href=\"#DejaVuSans-20\"/>\n      <use x=\"1107.136719\" xlink:href=\"#DejaVuSans-76\"/>\n      <use x=\"1166.316406\" xlink:href=\"#DejaVuSans-61\"/>\n      <use x=\"1227.595703\" xlink:href=\"#DejaVuSans-72\"/>\n      <use x=\"1268.708984\" xlink:href=\"#DejaVuSans-69\"/>\n      <use x=\"1296.492188\" xlink:href=\"#DejaVuSans-61\"/>\n      <use x=\"1357.771484\" xlink:href=\"#DejaVuSans-6e\"/>\n      <use x=\"1421.150391\" xlink:href=\"#DejaVuSans-63\"/>\n      <use x=\"1476.130859\" xlink:href=\"#DejaVuSans-65\"/>\n     </g>\n    </g>\n    <g id=\"patch_17\">\n     <path d=\"M 59.3525 47.859531 \nL 85.3525 47.859531 \nL 85.3525 38.759531 \nL 59.3525 38.759531 \nz\n\" style=\"fill:#5f9e6e;opacity:0.5;stroke:#ffffff;stroke-linejoin:miter;\"/>\n    </g>\n    <g id=\"text_14\">\n     <!-- individual explained variance -->\n     <g style=\"fill:#262626;\" transform=\"translate(95.7525 47.859531)scale(0.13 -0.13)\">\n      <use xlink:href=\"#DejaVuSans-69\"/>\n      <use x=\"27.783203\" xlink:href=\"#DejaVuSans-6e\"/>\n      <use x=\"91.162109\" xlink:href=\"#DejaVuSans-64\"/>\n      <use x=\"154.638672\" xlink:href=\"#DejaVuSans-69\"/>\n      <use x=\"182.421875\" xlink:href=\"#DejaVuSans-76\"/>\n      <use x=\"241.601562\" xlink:href=\"#DejaVuSans-69\"/>\n      <use x=\"269.384766\" xlink:href=\"#DejaVuSans-64\"/>\n      <use x=\"332.861328\" xlink:href=\"#DejaVuSans-75\"/>\n      <use x=\"396.240234\" xlink:href=\"#DejaVuSans-61\"/>\n      <use x=\"457.519531\" xlink:href=\"#DejaVuSans-6c\"/>\n      <use x=\"485.302734\" xlink:href=\"#DejaVuSans-20\"/>\n      <use x=\"517.089844\" xlink:href=\"#DejaVuSans-65\"/>\n      <use x=\"576.863281\" xlink:href=\"#DejaVuSans-78\"/>\n      <use x=\"636.042969\" xlink:href=\"#DejaVuSans-70\"/>\n      <use x=\"699.519531\" xlink:href=\"#DejaVuSans-6c\"/>\n      <use x=\"727.302734\" xlink:href=\"#DejaVuSans-61\"/>\n      <use x=\"788.582031\" xlink:href=\"#DejaVuSans-69\"/>\n      <use x=\"816.365234\" xlink:href=\"#DejaVuSans-6e\"/>\n      <use x=\"879.744141\" xlink:href=\"#DejaVuSans-65\"/>\n      <use x=\"941.267578\" xlink:href=\"#DejaVuSans-64\"/>\n      <use x=\"1004.744141\" xlink:href=\"#DejaVuSans-20\"/>\n      <use x=\"1036.53125\" xlink:href=\"#DejaVuSans-76\"/>\n      <use x=\"1095.710938\" xlink:href=\"#DejaVuSans-61\"/>\n      <use x=\"1156.990234\" xlink:href=\"#DejaVuSans-72\"/>\n      <use x=\"1198.103516\" xlink:href=\"#DejaVuSans-69\"/>\n      <use x=\"1225.886719\" xlink:href=\"#DejaVuSans-61\"/>\n      <use x=\"1287.166016\" xlink:href=\"#DejaVuSans-6e\"/>\n      <use x=\"1350.544922\" xlink:href=\"#DejaVuSans-63\"/>\n      <use x=\"1405.525391\" xlink:href=\"#DejaVuSans-65\"/>\n     </g>\n    </g>\n   </g>\n  </g>\n </g>\n <defs>\n  <clipPath id=\"p3ad4767eac\">\n   <rect height=\"271.8\" width=\"781.2\" x=\"47.6525\" y=\"7.2\"/>\n  </clipPath>\n </defs>\n</svg>\n",
      "text/plain": "<Figure size 1008x360 with 1 Axes>"
     },
     "metadata": {
      "needs_background": "light"
     },
     "output_type": "display_data"
    }
   ],
   "source": [
    "matrix = convert_customers_df_to_np(transactions_per_user, N_PURCHASE_CLUSTERS)\n",
    "scaled_matrix, pca = analyse_customers_pca(matrix)\n",
    "plot_customers_pca(matrix, pca)"
   ]
  },
  {
   "cell_type": "markdown",
   "id": "designed-tobacco",
   "metadata": {},
   "source": [
    "### Analyse customers categories\n",
    "\n",
    "> build customers clusters via Kmeans\n",
    "\n",
    "Original section: 4.2.2 Creation of customer categories. Original cells: 54-"
   ]
  },
  {
   "cell_type": "code",
   "execution_count": null,
   "id": "radical-drawing",
   "metadata": {},
   "outputs": [],
   "source": [
    "# export\n",
    "\n",
    "def compute_customer_clusters(\n",
    "    scaled_matrix: np.ndarray,\n",
    "    n_clusters: int,\n",
    ") -> np.ndarray:   \n",
    "    kmeans = KMeans(init='k-means++', n_clusters=n_clusters, n_init=100)\n",
    "    kmeans.fit(scaled_matrix)\n",
    "    clusters = kmeans.predict(scaled_matrix)\n",
    "    return clusters"
   ]
  },
  {
   "cell_type": "code",
   "execution_count": null,
   "id": "following-taylor",
   "metadata": {},
   "outputs": [
    {
     "name": "stdout",
     "output_type": "stream",
     "text": [
      "                  1    3    8    10   6    2    0    4   9   5   7 \nnb. de clients  1174  446  354  279  254  232  205  150  32  10   7\nscore de silhouette: 0.220\n"
     ]
    }
   ],
   "source": [
    "N_CUSTOMER_CLUSTERS = 11\n",
    "\n",
    "clusters_clients = compute_customer_clusters(scaled_matrix, N_CUSTOMER_CLUSTERS)\n",
    "print(pd.DataFrame(pd.Series(clusters_clients).value_counts(), columns = ['nb. de clients']).T)\n",
    "\n",
    "silhouette_avg = silhouette_score(scaled_matrix, clusters_clients)\n",
    "print('score de silhouette: {:<.3f}'.format(silhouette_avg))"
   ]
  },
  {
   "cell_type": "code",
   "execution_count": null,
   "id": "applicable-brain",
   "metadata": {},
   "outputs": [
    {
     "ename": "ModuleNotFoundError",
     "evalue": "No module named 'customer_segmentation_toolkit.data'",
     "output_type": "error",
     "traceback": [
      "\u001b[0;31m---------------------------------------------------------------------------\u001b[0m",
      "\u001b[0;31mModuleNotFoundError\u001b[0m                       Traceback (most recent call last)",
      "\u001b[0;32m<ipython-input-15-421ab4d20a47>\u001b[0m in \u001b[0;36m<module>\u001b[0;34m\u001b[0m\n\u001b[0;32m----> 1\u001b[0;31m \u001b[0;32mfrom\u001b[0m \u001b[0mcustomer_segmentation_toolkit\u001b[0m\u001b[0;34m.\u001b[0m\u001b[0mdata\u001b[0m\u001b[0;34m.\u001b[0m\u001b[0manalyse_purchases\u001b[0m \u001b[0;32mimport\u001b[0m \u001b[0mplot_silhouette\u001b[0m\u001b[0;34m\u001b[0m\u001b[0;34m\u001b[0m\u001b[0m\n\u001b[0m\u001b[1;32m      2\u001b[0m \u001b[0;34m\u001b[0m\u001b[0m\n\u001b[1;32m      3\u001b[0m \u001b[0msample_silhouette_values\u001b[0m \u001b[0;34m=\u001b[0m \u001b[0msilhouette_samples\u001b[0m\u001b[0;34m(\u001b[0m\u001b[0mscaled_matrix\u001b[0m\u001b[0;34m,\u001b[0m \u001b[0mclusters_clients\u001b[0m\u001b[0;34m)\u001b[0m\u001b[0;34m\u001b[0m\u001b[0;34m\u001b[0m\u001b[0m\n\u001b[1;32m      4\u001b[0m \u001b[0mplot_silhouette\u001b[0m\u001b[0;34m(\u001b[0m\u001b[0mN_CUSTOMER_CLUSTERS\u001b[0m\u001b[0;34m,\u001b[0m \u001b[0;34m[\u001b[0m\u001b[0;34m-\u001b[0m\u001b[0;36m0.15\u001b[0m\u001b[0;34m,\u001b[0m \u001b[0;36m0.55\u001b[0m\u001b[0;34m]\u001b[0m\u001b[0;34m,\u001b[0m \u001b[0mlen\u001b[0m\u001b[0;34m(\u001b[0m\u001b[0mscaled_matrix\u001b[0m\u001b[0;34m)\u001b[0m\u001b[0;34m,\u001b[0m \u001b[0msample_silhouette_values\u001b[0m\u001b[0;34m,\u001b[0m \u001b[0mclusters_clients\u001b[0m\u001b[0;34m)\u001b[0m\u001b[0;34m\u001b[0m\u001b[0;34m\u001b[0m\u001b[0m\n",
      "\u001b[0;31mModuleNotFoundError\u001b[0m: No module named 'customer_segmentation_toolkit.data'"
     ]
    }
   ],
   "source": [
    "from customer_segmentation_toolkit.analyse_purchases import plot_silhouette\n",
    "\n",
    "sample_silhouette_values = silhouette_samples(scaled_matrix, clusters_clients)\n",
    "plot_silhouette(N_CUSTOMER_CLUSTERS, [-0.15, 0.55], len(scaled_matrix), sample_silhouette_values, clusters_clients)"
   ]
  },
  {
   "cell_type": "code",
   "execution_count": null,
   "id": "temporal-nitrogen",
   "metadata": {},
   "outputs": [],
   "source": [
    "# export\n",
    "\n",
    "import matplotlib.patches as mpatches\n",
    "import matplotlib.pyplot as plt\n",
    "import seaborn as sns\n",
    "\n",
    "\n",
    "def plot_customer_categories(\n",
    "    scaled_matrix: np.ndarray,\n",
    "    clusters_clients: np.ndarray,\n",
    "    n_customer_clusters: int,\n",
    "):\n",
    "    mat = pd.DataFrame(scaled_matrix)\n",
    "    mat['cluster'] = pd.Series(clusters_clients)\n",
    "\n",
    "    sns.set_style(\"white\")\n",
    "    sns.set_context(\"notebook\", font_scale=1, rc={\"lines.linewidth\": 2.5})\n",
    "\n",
    "    LABEL_COLOR_MAP = {0:'r', 1:'tan', 2:'b', 3:'k', 4:'c', 5:'g', 6:'deeppink', 7:'skyblue', 8:'darkcyan', 9:'orange',\n",
    "                       10:'yellow', 11:'tomato', 12:'seagreen'}\n",
    "    label_color = [LABEL_COLOR_MAP[l] for l in mat['cluster']]\n",
    "\n",
    "    fig = plt.figure(figsize = (12,10))\n",
    "    increment = 0\n",
    "    for ix in range(6):\n",
    "        for iy in range(ix+1, 6):   \n",
    "            increment += 1\n",
    "            ax = fig.add_subplot(4,3,increment)\n",
    "            ax.scatter(mat[ix], mat[iy], c= label_color, alpha=0.5) \n",
    "            plt.ylabel('PCA {}'.format(iy+1), fontsize = 12)\n",
    "            plt.xlabel('PCA {}'.format(ix+1), fontsize = 12)\n",
    "            ax.yaxis.grid(color='lightgray', linestyle=':')\n",
    "            ax.xaxis.grid(color='lightgray', linestyle=':')\n",
    "            ax.spines['right'].set_visible(False)\n",
    "            ax.spines['top'].set_visible(False)\n",
    "\n",
    "            if increment == 12: break\n",
    "        if increment == 12: break\n",
    "\n",
    "    #_______________________________________________\n",
    "    # I set the legend: abreviation -> airline name\n",
    "    comp_handler = []\n",
    "    for i in range(n_customer_clusters):\n",
    "        comp_handler.append(mpatches.Patch(color = LABEL_COLOR_MAP[i], label = i))\n",
    "\n",
    "    plt.legend(handles=comp_handler, bbox_to_anchor=(1.1, 0.9), \n",
    "               title='Cluster', facecolor = 'lightgrey',\n",
    "               shadow = True, frameon = True, framealpha = 1,\n",
    "               fontsize = 13, bbox_transform = plt.gcf().transFigure)\n",
    "\n",
    "    plt.tight_layout()\n"
   ]
  },
  {
   "cell_type": "code",
   "execution_count": null,
   "id": "about-yukon",
   "metadata": {},
   "outputs": [],
   "source": [
    "plot_customer_categories(scaled_matrix, clusters_clients, N_CUSTOMER_CLUSTERS)"
   ]
  },
  {
   "cell_type": "markdown",
   "id": "prostate-webster",
   "metadata": {},
   "source": [
    "Original cells 59-61:"
   ]
  },
  {
   "cell_type": "code",
   "execution_count": null,
   "id": "above-convenience",
   "metadata": {},
   "outputs": [],
   "source": [
    "# export\n",
    "\n",
    "def add_customer_clusters_info(\n",
    "    transactions_per_user: pd.DataFrame,\n",
    "    clusters_clients: np.ndarray,\n",
    "):\n",
    "    selected_customers = transactions_per_user.copy(deep = True)\n",
    "    selected_customers.loc[:, 'cluster'] = clusters_clients\n",
    "    \n",
    "    return selected_customers"
   ]
  },
  {
   "cell_type": "code",
   "execution_count": null,
   "id": "verified-median",
   "metadata": {},
   "outputs": [],
   "source": [
    "selected_customers_df = add_customer_clusters_info(transactions_per_user, clusters_clients)\n",
    "selected_customers_df"
   ]
  },
  {
   "cell_type": "code",
   "execution_count": null,
   "id": "natural-listing",
   "metadata": {},
   "outputs": [],
   "source": [
    "# export\n",
    "\n",
    "def compute_aggregated_customer_clusters_info(\n",
    "    selected_customers: pd.DataFrame,\n",
    "    n_purchase_clusters: int,\n",
    "    n_customer_clusters: int,\n",
    "    categ_threshold: int = 35,\n",
    "):\n",
    "    merged_df = pd.DataFrame()\n",
    "    for i in range(n_customer_clusters):\n",
    "        test = pd.DataFrame(selected_customers[selected_customers['cluster'] == i].mean())\n",
    "        test = test.T.set_index('cluster', drop = True)\n",
    "        test['size'] = selected_customers[selected_customers['cluster'] == i].shape[0]\n",
    "        merged_df = pd.concat([merged_df, test])\n",
    "\n",
    "    merged_df.drop('CustomerID', axis = 1, inplace = True)\n",
    "    \n",
    "    merged_df = merged_df.sort_values('sum')\n",
    "    \n",
    "    liste_index = []\n",
    "    for i in range(n_purchase_clusters):\n",
    "        column = 'categ_{}'.format(i)\n",
    "        # XXX: Here we changed the constant: 45 -> categ_threshold\n",
    "        # Otherwise we get: IndexError: index 0 is out of bounds for axis 0 with size 0\n",
    "        liste_index.append(merged_df[merged_df[column] > categ_threshold].index.values[0])\n",
    "    liste_index_reordered = liste_index\n",
    "    set_index = set(liste_index)\n",
    "    liste_index_reordered += [ s for s in merged_df.index if s not in set_index]\n",
    "    merged_df = merged_df.reindex(index = liste_index_reordered)\n",
    "    merged_df = merged_df.reset_index(drop = False)\n",
    "    \n",
    "    return merged_df"
   ]
  },
  {
   "cell_type": "code",
   "execution_count": null,
   "id": "elder-integer",
   "metadata": {},
   "outputs": [],
   "source": [
    "merged_df = compute_aggregated_customer_clusters_info(selected_customers_df, N_PURCHASE_CLUSTERS, N_CUSTOMER_CLUSTERS)\n",
    "print('number of customers:', merged_df['size'].sum())\n",
    "merged_df"
   ]
  },
  {
   "cell_type": "code",
   "execution_count": null,
   "id": "brazilian-importance",
   "metadata": {},
   "outputs": [],
   "source": [
    "# export\n",
    "\n",
    "# TODO: plot radarchart\n",
    "# Artem Y: I'm getting a weird error:\n",
    "#   ValueError: The number of FixedLocator locations (6), usually from a call to set_ticks, does not match the number of ticklabels (5)."
   ]
  },
  {
   "cell_type": "code",
   "execution_count": null,
   "metadata": {},
   "outputs": [],
   "source": []
  }
 ],
 "metadata": {
  "kernelspec": {
   "display_name": "myvenv",
   "language": "python",
   "name": "myvenv"
  }
 },
 "nbformat": 4,
 "nbformat_minor": 5
}
